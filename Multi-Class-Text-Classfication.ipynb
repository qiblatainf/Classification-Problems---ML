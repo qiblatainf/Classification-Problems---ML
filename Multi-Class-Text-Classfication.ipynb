{
 "cells": [
  {
   "cell_type": "markdown",
   "metadata": {},
   "source": [
    "Import Libraries"
   ]
  },
  {
   "cell_type": "code",
   "execution_count": null,
   "metadata": {},
   "outputs": [],
   "source": [
    "import matplotlib.pyplot as plt\n",
    "import os\n",
    "import re\n",
    "import string\n",
    "import tensorflow as tf\n",
    "from keras import utils\n",
    "\n",
    "from keras import layers\n",
    "from keras import losses"
   ]
  },
  {
   "cell_type": "markdown",
   "metadata": {},
   "source": [
    "Data Loading"
   ]
  },
  {
   "cell_type": "code",
   "execution_count": 58,
   "metadata": {},
   "outputs": [
    {
     "name": "stdout",
     "output_type": "stream",
     "text": [
      "stack_overflow_16k\n"
     ]
    }
   ],
   "source": [
    "dataset_dir = \"stack_overflow_16k\"\n",
    "print(dataset_dir)"
   ]
  },
  {
   "cell_type": "code",
   "execution_count": 59,
   "metadata": {},
   "outputs": [
    {
     "data": {
      "text/plain": [
       "['csharp', 'java', 'javascript', 'python']"
      ]
     },
     "execution_count": 59,
     "metadata": {},
     "output_type": "execute_result"
    }
   ],
   "source": [
    "train_dir = os.path.join(dataset_dir, 'train')\n",
    "os.listdir(train_dir)"
   ]
  },
  {
   "cell_type": "code",
   "execution_count": null,
   "metadata": {},
   "outputs": [
    {
     "name": "stdout",
     "output_type": "stream",
     "text": [
      "\"how to pause loop while time is ticking i have made a timer where i can set time i want to wait and then do something..so this is my short timer func:..private void sleep(int interval, action action).{.    system.windows.forms.timer mytimer = new system.windows.forms.timer();.    mytimer.interval = interval; //interval is in ms   .    mytimer.start();.    mytimer.tick += (s, e) =&gt;.    {.        action();.        mytimer.stop();.    };.}...and im using this timer in loop:..foreach (string word in words).{.   sleep(5000, ()=&gt; myaction());                                           .}...without loop timer is great but in loop it wont work because loop wont stop and wait for those 5secs. it do all stuff imediately and starts timer again and again too fast...so what im trying to find out is how to make my loop wait until time runs out and myaction() is executed. im working on forms application so all threadin sleeps wont work here. also i tried all other timers but they used too much cpu.\"\n",
      "\n"
     ]
    }
   ],
   "source": [
    "#Test data loading\n",
    "sample_file = os.path.join(train_dir, 'csharp//0.txt')\n",
    "with open(sample_file) as f:\n",
    "    print(f.read())"
   ]
  },
  {
   "cell_type": "code",
   "execution_count": null,
   "metadata": {},
   "outputs": [
    {
     "name": "stdout",
     "output_type": "stream",
     "text": [
      "Found 8000 files belonging to 4 classes.\n",
      "Using 6400 files for training.\n"
     ]
    }
   ],
   "source": [
    "#Creating training dataset (80%)\n",
    "batch_size = 32\n",
    "seed = 42\n",
    "\n",
    "raw_train_ds = utils.text_dataset_from_directory(\n",
    "    train_dir,\n",
    "    batch_size=batch_size,\n",
    "    validation_split=0.2,\n",
    "    subset='training',\n",
    "    seed=seed\n",
    ")"
   ]
  },
  {
   "cell_type": "code",
   "execution_count": null,
   "metadata": {},
   "outputs": [
    {
     "name": "stdout",
     "output_type": "stream",
     "text": [
      "<_TakeDataset element_spec=(TensorSpec(shape=(None,), dtype=tf.string, name=None), TensorSpec(shape=(None,), dtype=tf.int32, name=None))>\n"
     ]
    }
   ],
   "source": [
    "print(raw_train_ds.take(1))"
   ]
  },
  {
   "cell_type": "code",
   "execution_count": 69,
   "metadata": {},
   "outputs": [
    {
     "name": "stdout",
     "output_type": "stream",
     "text": [
      "Text:  b'\"set blank to quit on exception? i\\'m using blank 3..i\\'ve been looking around for an answer to this, but i haven\\'t found it yet. basically, i\\'m running several blank scripts into a game engine, and each script has its own entry point...i\\'d rather not add try: except blocks through all of my code, so i was wondering if it\\'s at all possible to tell blank to quit (or perhaps assign a custom function to that \"\"callback\"\") on finding its first error, regardless of where or what it found? ..currently, the game engine will continue after finding and hitting an error, making it more difficult than necessary to diagnose issues since running into one error may make a subsequent script not work (as it relies on variables that the error-ing script set, for example). any ideas? ..i know that i could redirect the console to a file to allow for easier scrolling, but just capturing the first error and stopping the game prematurely would be really useful...okay, a couple of extra bits of info - sorry for neglecting to say this. the engine i\\'m using (the blender game engine) is coded in c, so changing the source is more than i\\'d like to do.....after googling, it would appear that a similar question with a solid answer has been asked here, which is how to get the last raised exception. if i check the sys module for the presence of the last_value variable and it exists, then i can quit prematurely, as the console would have already printed out the error...thanks for the help.\"\\n'\n",
      "Label:  3\n",
      "Text:  b'\"how do i convert a binary image into an in-memory data structure in blank? context: ...i am using blank 2.6.5...goal:...read a binary image file and represent it in-memory. then run a checksum on it. deliver the binary representation to be stored as a blob in mysql....comments:...i have read this so thread..i have looked at the struct module. .i also have bumped into the io module..with all the available options, i am not certain which is the best solution. the bytesio data structure seems to be suitable for my needs. which one do you think will meet my requirements ?\"\\n'\n",
      "Label:  3\n",
      "Text:  b'\"adding an array of div ids to a var so i have animate multiple divs across site i found some js on github that did what i needed it to do with the exception of being able to have multiple hand/glove animations on different pages of the site. the original js called the div id and i assumed that the var needed an array of the existing div ids.  i tried that and it did not work. i am not a js or jquery guru at all but i can implement and tweak most of the time. ..i have set up a fiddle so you can see how the original js is working with my code. i just need both div containers to animate the corresponding png that is called in the css for the separate div ids...http://jsfiddle.net/haagmeister/38lb2/14/..the code pulled from the cms and the second div is not animating.. i assume it is because the calling of the var is not set up properly to pull from the array?..&lt;!doctype html public \"\"-//w3c//dtd xhtml 1.0 transitional//en\"\" \"\"http://www.w3.org/tr/xhtml1/dtd/xhtml1-transitional.dtd\"\"&gt;.&lt;html xmlns=\"\"http://www.w3.org/1999/xhtml\"\"&gt;.&lt;head&gt;.&lt;meta http-equiv=\"\"content-type\"\" content=\"\"text/html; charset=utf-8\"\" /&gt;.&lt;title&gt;untitled document&lt;/title&gt;.&lt;style type=\"\"text/css\"\"&gt;.#new-headers-container{.width: 1024px;.height: 430px;.border: none;.margin: 0;.padding: 0;.}.#sports-gloves-container{.width: 411px;.height: 430px;.overflow: hidden;.float: left;.background: url(\\'http://popticals.com/template/sportheaders/circle-animation.gif\\') no-repeat 0 0;.border: none;.margin: 0;.padding: 0;.}.#golf-glove{.width: 284px;.height: 430px;.overflow: hidden;.float: left;.background: url(\\'http://popticals.com/template/sportheaders/gloves/golf-glove.png\\') no-repeat 0 0;.border: none;.margin: 0px 0px 0px 86px;.padding: 0;.}.#bike-glove{.width: 284px;.height: 430px;.overflow: hidden;.float: left;.background: url(\\'http://popticals.com/template/sportheaders/gloves/bike-glove.png\\') no-repeat 0 0;.border: none;.margin: 0px 0px 0px 86px;.padding: 0;.}.&lt;/style&gt;..&lt;script type=\\'text/blank\\'&gt;.(function($) {..        // you should change these variables.        var numberofsteps = 5;.        var heightofonestep = 430;.        var idofanimateddiv = [\"\"golf-glove\"\",\"\"bike-glove\"\"];.        var timebetweensteps = 60;..        // you probably won\\'t have to change these.        var index = -1;.        var direction = \"\"+\"\";.        var steps = [];.        var timeoutduration;...        // instantiate steps with the correct heights of the png.        for (var i = 0; i &lt;= numberofsteps - 1; i++) {.            steps.push( heightofonestep * i );.        }..        var interval = settimeout(function() {..            // reset timeoutduration.            if ( timeoutduration != timebetweensteps ) {.                timeoutduration = timebetweensteps;.            }..            // increment or decrement index.            if ( direction == \"\"+\"\" ) {.                index++;.            } else {.                index--;    .            }..            // reverse direction if we are at the beginning or end of the animation.            if (index == numberofsteps) {..               direction = \"\"-\"\";.               timeoutduration = 10000;..            } else if ( index == -1 ) {..                direction = \"\"+\"\";.                timeoutduration = 750;..            }...            $(\\'#\\' + idofanimateddiv ).css(\\'backgroundposition\\', \\'0px -\\' + steps[index] + \\'px\\');..            settimeout(arguments.callee, timeoutduration);..        }, 1000);..    })(jquery);.&lt;/script&gt;.&lt;/head&gt;..&lt;body&gt;.&lt;div id=\"\"sports-gloves-container\"\"&gt;.    &lt;div id=\"\"golf-glove\"\"&gt;&lt;/div&gt;.&lt;/div&gt;.&lt;div id=\"\"sports-gloves-container\"\"&gt;.    &lt;div id=\"\"bike-glove\"\"&gt;&lt;/div&gt;.&lt;/div&gt;.&lt;/body&gt;.&lt;/html&gt;\"\\n'\n",
      "Label:  2\n"
     ]
    }
   ],
   "source": [
    "for text_batch, label_batch in raw_train_ds.take(1):\n",
    "  for i in range(3):\n",
    "    print(\"Text: \", text_batch.numpy()[i])\n",
    "    print(\"Label: \", label_batch.numpy()[i])"
   ]
  },
  {
   "cell_type": "code",
   "execution_count": null,
   "metadata": {},
   "outputs": [
    {
     "name": "stdout",
     "output_type": "stream",
     "text": [
      "Label 0 corresponds to csharp\n",
      "Label 1 corresponds to java\n",
      "Label 2 corresponds to javascript\n",
      "Label 3 corresponds to python\n"
     ]
    }
   ],
   "source": [
    "print(\"Label 0 =\", raw_train_ds.class_names[0])\n",
    "print(\"Label 1 =\", raw_train_ds.class_names[1])\n",
    "print(\"Label 2 =\", raw_train_ds.class_names[2])\n",
    "print(\"Label 3 =\", raw_train_ds.class_names[3])\n"
   ]
  },
  {
   "cell_type": "code",
   "execution_count": null,
   "metadata": {},
   "outputs": [
    {
     "name": "stdout",
     "output_type": "stream",
     "text": [
      "Found 8000 files belonging to 4 classes.\n",
      "Using 1600 files for validation.\n"
     ]
    }
   ],
   "source": [
    "#Creating validation dataset (20%)\n",
    "raw_val_ds = utils.text_dataset_from_directory(\n",
    "    train_dir,\n",
    "    batch_size=batch_size,\n",
    "    validation_split=0.2,\n",
    "    subset='validation',\n",
    "    seed=seed)"
   ]
  },
  {
   "cell_type": "code",
   "execution_count": 74,
   "metadata": {},
   "outputs": [
    {
     "data": {
      "text/plain": [
       "['csharp', 'java', 'javascript', 'python']"
      ]
     },
     "execution_count": 74,
     "metadata": {},
     "output_type": "execute_result"
    }
   ],
   "source": [
    "test_dir = os.path.join(dataset_dir, 'test')\n",
    "os.listdir(test_dir)"
   ]
  },
  {
   "cell_type": "code",
   "execution_count": 75,
   "metadata": {},
   "outputs": [
    {
     "name": "stdout",
     "output_type": "stream",
     "text": [
      "Found 8000 files belonging to 4 classes.\n"
     ]
    }
   ],
   "source": [
    "raw_test_ds = utils.text_dataset_from_directory(\n",
    "    test_dir,\n",
    "    batch_size=batch_size)"
   ]
  },
  {
   "cell_type": "code",
   "execution_count": 82,
   "metadata": {},
   "outputs": [],
   "source": [
    "def custom_standardization(input_data):\n",
    "  lowercase = tf.strings.lower(input_data)\n",
    "  stripped_html = tf.strings.regex_replace(lowercase, '<br />', ' ')\n",
    "  return tf.strings.regex_replace(stripped_html,\n",
    "                                  '[%s]' % re.escape(string.punctuation),\n",
    "                                  '')"
   ]
  },
  {
   "cell_type": "markdown",
   "metadata": {},
   "source": [
    "Vectorize Data"
   ]
  },
  {
   "cell_type": "code",
   "execution_count": 156,
   "metadata": {},
   "outputs": [],
   "source": [
    "max_features = 10000\n",
    "sequence_length = 150\n",
    "\n",
    "vectorize_layer = layers.TextVectorization(\n",
    "    standardize=custom_standardization,\n",
    "    max_tokens=max_features,\n",
    "    output_mode='int',\n",
    "    output_sequence_length=sequence_length)\n",
    "\n",
    "def vectorize_text(text, label):\n",
    "  text = tf.expand_dims(text, -1)\n",
    "  return vectorize_layer(text), label"
   ]
  },
  {
   "cell_type": "code",
   "execution_count": 157,
   "metadata": {},
   "outputs": [],
   "source": [
    "# Make a text-only dataset (without labels), then call adapt \n",
    "train_text = raw_train_ds.map(lambda x, y: x)\n",
    "vectorize_layer.adapt(train_text)"
   ]
  },
  {
   "cell_type": "code",
   "execution_count": 158,
   "metadata": {},
   "outputs": [
    {
     "name": "stdout",
     "output_type": "stream",
     "text": [
      "tf.Tensor(\n",
      "[b'\"printing by prototype not working in js i am trying to make a constructor function. then i am trying to use its prototype and printing \"\"peter\"\". but it is showing an error. ....function main(){..   var func1 = function(){. this.name = \"\"peter\"\";. this.age = 27; . this.class = \"\"10\"\";.   }..   func1.prototype.printname = function(){. console.log(this.name);.   }..   return func1; .}..var a = main();..a.printname();\"\\n'\n",
      " b'\"get current url address by blank how can i get current url like this...for example, if the url is:..http://www.test.com/app/one.bc..i want to get the path without the address the main page so like:../app/one.bc\"\\n'\n",
      " b'\"element.removeeventlistener(\\'mousedown\\', externalfunction, usecapture); is not working i need to first remove the event listener before dynamically adding more elements which also need the same event listener. i am using an external function name (not an anonymous function) and specifying the same usecapture value in both the add and remove. ..the function is nested within another function. &lt; suspected problem was the problem..you can see the problem by clicking the first \"\"add button\"\"  more than once. the first click adds one more button, the second click adds two more, the third click adds four more, etc. each click should only add one more. i guess the return value of removeeventlistener is always undefined so i can only tell that removal did not work from the duplicate events.....var app = function() {. console.log(\\'app\\');. . var setup = function() {.  console.log(\\'setup\\');. .  var addbutton = function(e) {.   console.log(e);.   var button = e.target;.   var newbutton = document.createelement(\\'button\\');.   newbutton.innertext = \\'add another button\\';.   button.parentnode.appendchild( newbutton );.   setup();.  }. .  var buttons = document.queryselectorall(\\'button\\');.  .  for(var i=0; i&lt;buttons.length; i++) {.   var button = buttons[i];.   button.removeeventlistener(\\'mousedown\\', addbutton, false);.   button.addeventlistener(\\'mousedown\\', addbutton, false);.  }.  . }. setup();.}.app();.&lt;div&gt;. &lt;button&gt;add button&lt;/button&gt;.&lt;/div&gt;\"\\n'\n",
      " b'\"blank - returning a value that is bigger than the other? def all_gt(nums, n):.    i = [].    for c in nums:.        if c &gt; n:.            i += c.    return i...this is the code that i used and \\'i\\' is supposed to return the value in nums larger than n..but mine returns nothing inside the bracket. e.g., ..all_gt([1,2,3,4], 2)  =&gt; [3,4]..anyone knows how to fix?.thanks\"\\n'\n",
      " b'\"blank...help me understand the include of _db.users.include(\"\"something\"\") a newbie question, i know; however, i see it quite often and don\\'t understand what the .include is doing...if it matters i\\'m working in mvc 4 and blank...i know that _db is a reference to my context. _db.users references my dbset users within the context...so i have a table with records of users and can do all sorts of things and i\\'m good there. but what is the .include(\"\"something\"\") doing?..one example i\\'ve seen is as follows. i get that it pulls a single user record, of type user, for strusername. short of that, i\\'m lost about the .include(\"\"userroles\"\")...user user = _db.users.include(\"\"userroles\"\").single(u =&gt; u.username == strusername);...after some help, i understand it is related to eager loading. but i still can\\'t find anything that helps to understand the model structures to accommodate it.\"\\n'\n",
      " b'\"removing duplicate items by value within a dict need some help here as i\\'ve been scratching my head for the past hour on this problem:..items = {1: {\\'title\\': u\\'testing123\\', \\'description\\': u\\'testing456\\'},.2: {\\'title\\': u\\'testing123\\', \\'description\\': u\\'testing456\\'},.3: {\\'title\\': u\\'testing123\\', \\'description\\': u\\'testing456\\'},.4: {\\'title\\': u\\'testing123\\', \\'description\\': u\\'testing456\\'},.5: {\\'title\\': u\\'testing123\\', \\'description\\': u\\'testing456\\'},.6: {\\'title\\': u\\'something\\', \\'description\\': u\\'somethingelse\\'}}..itemscopy = items.copy()..for key1, val1 in itemscopy.iteritems():.    for key2, val2 in itemscopy.iteritems():.        if val1.get(\\'description\\') == val2.get(\\'description\\'):.            del items[key2]...i\\'m trying to remove duplicates from the items dict, such that the result excludes all duplicates, however, i\\'m removing them all entirely such that my final result is:..{6: {\\'title\\': u\\'something\\', \\'description\\': u\\'somethingelse\\'}}...when it should be:..{1: {\\'title\\': u\\'testing123\\', \\'description\\': u\\'testing456\\'}, 6: {\\'title\\': u\\'something\\', \\'description\\': u\\'somethingelse\\'}}\"\\n'\n",
      " b'\"js beginner- how to parse through all child nodes immediately at one level lower than a dom node in a web page i understand that for a web page\\'s node stored in a variable named \\'parent\\', i can obtain all its child nodes using the command ..var children=parent.childnodes;...i have 2 questions here-- ..(a) will the above line of code only provide the nodes that are immediate children? or will nodes even lower than immediate children also be stored in \\'children\\' variable?..(b) how can i parse through each node in the \\'children\\' variable?\"\\n'\n",
      " b'\"how to hide seek bar in blank i am doing a video player using blank with basic playback features and have listeners for ad starts and ad ended. i hide seekbar when ad is playing and make visible after ad end. now my problem is if i call a play function or pause method from console when ad is playing the seekbar get visible instead of hide...// ad start event.this.onadstartedevent = function(data) {.  isadplaying = true;.  // code for hide seekbar.  oo.$(\"\".oo-control-bar\"\").hide();.}.// ad end event.this.onadcompletedevent = function(data) {.  isadplaying = false;.  oo.$(\"\".oo-control-bar\"\").show();.}.// pause method.this.pause = function(data){. if(isadplaying){.   oo.$(\"\".oo-control-bar\"\").hide(); // it does not hide the seekbar.  }.}...i call the pause() method from console the seek bar code get executed but its not hidden. .please let me know how to get hide the seekbar from pause method\"\\n'\n",
      " b'\"regex - is the way i\\'m extracting text from a string the most concise? i\\'m trying to use regex to extract text from a string ignoring case. below is how i did it? am i missing any caveats?  ..using system;.using system.text.regularexpressions;..public class example.{.    public static void main().    {.        string result = regex.match(@\"\"inventorypassword1234.txt\"\", @\"\"(?i)(?&lt;=inventory).*(?=.txt)(?-i)\"\").value;.        console.write(result);.    }.}...https://regex101.com/r/g4cu6d/1/\"\\n'\n",
      " b'\"convert binary to string not works i created a simple program...i create a string and compress it by following methods and store it in a binary data field type in sql server 2008 (binary(1000) field type)...when i read that binary data and result string is true like original string data with the same length and data but when i want to decompress it it gave me an error...i use this method to get bytes:.. system.text.asciiencoding.ascii.getbytes(mystring)...and this method to get string:..system.text.asciiencoding.ascii.getstring(binarydata)...in hard code in vs2012 editor, result string works fine, but when i read it from sql it gives me this error in first line of decompression method:.. the input is not a valid base-64 string as it contains a. non-base 64 character, more   than two padding characters, . or a non-white space character among the padding characters....what\\'s wrong with my code? these two strings are same but ..string test1=decompress(\"\"mystring\"\");......this method works fine but this gave me that error and can not decompress retrieved string..string temp=system.text.asciiencoding.ascii.getstring(get data from sql) ;.string test2=decompress(temp);...the comparing these string do not shows any deference..int result = string.compare(test1, test2); // result=0...my compression method:..   public static string compress(string text).   {.       byte[] buffer = encoding.utf8.getbytes(text);.       var memorystream = new memorystream();.       using (var gzipstream = new gzipstream(memorystream, compressionmode.compress, true)).       {.           gzipstream.write(buffer, 0, buffer.length);.       }..       memorystream.position = 0;..       var compresseddata = new byte[memorystream.length];.       memorystream.read(compresseddata, 0, compresseddata.length);..       var gzipbuffer = new byte[compresseddata.length + 4];.       buffer.blockcopy(compresseddata, 0, gzipbuffer, 4, compresseddata.length);.       buffer.blockcopy(bitconverter.getbytes(buffer.length), 0, gzipbuffer, 0, 4);.       return convert.tobase64string(gzipbuffer);.   }...my decompression method:..   public static string decompress(string compressedtext).   {.       byte[] gzipbuffer = convert.frombase64string(compressedtext);.       using (var memorystream = new memorystream()).       {.           int datalength = bitconverter.toint32(gzipbuffer, 0);.           memorystream.write(gzipbuffer, 4, gzipbuffer.length - 4);..           var buffer = new byte[datalength];..           memorystream.position = 0;.           using (var gzipstream = new gzipstream(memorystream, compressionmode.decompress)).           {.               gzipstream.read(buffer, 0, buffer.length);.           }..           return encoding.utf8.getstring(buffer);.       }.   }\"\\n'\n",
      " b'\"evaluation of bitwise operator i don\\'t really get why a * 51 &amp; 52 evaluates to false for 9, 14, 19, 24 in the code beneath. i understand that the interval is 5 but why is 51 and 52 used and what numbers would i use for e.g. an interval of 6?..for(               // loop :).      b=a=\\'\\';        // b - result , a - numeric variable.      a++&lt;36;        // .      b+=a*51&amp;52  // if \"\"a\"\" is not 9 or 14 or 19 or 24.                  ?  //  return a random number or 4.         (.           a^15      // if \"\"a\"\" is not 15.              ?      // genetate a random number from 0 to 15.           8^math.random()*.           (a^20?16:4)  // unless \"\"a\"\" is 20, in which case a random number from 8 to 11.              :.           4            //  otherwise 4.           ).tostring(16).                  :.         \\'-\\'            //  in other cases (if \"\"a\"\" is 9,14,19,24) insert \"\"-\"\".      );.return b...update 25/08/2014 at 15:35: sorry, maybe my question was a bit unclear. i wanted a logical or mathematical explanation why the bitwise comparison only evaluates to false for 9, 14, 19, 24. i\\'m aware of what the bitwise operator does and how it works but i really don\\'t get the logic of the used pattern above. the code is actually taken from a gist to generate random v4 uuids (see https://gist.github.com/leverone/1308368) and i would name it size optimised code rather than obfuscated code.\"\\n'\n",
      " b'\"blank printing arraylist these are my 2 classes, they work. i want to add member into the arraylist of lan. my problem is, i can\\'t seem to print out the members that are set in the arraylist of lan, the name and alias or just the name. when i print this comes: member@1279d2f, any ideas? :s..import blank.util.arraylist;..public class lan.{..private arraylist&lt;member&gt; members;....    public lan().    {.      members = new arraylist&lt;member&gt;();..    }..    public void addmember(member newmember).    {.        if(newmember.getbalance() &gt;= 200).        {.            this.members.add(newmember);.        }.        else.        {.            system.out.println(\"\"you dont have enough money to enter\"\");.        }..    }.   public void printmembers(){..       system.out.println(\"\"people attending\"\");.       for(member member : members){..          system.out.println(member);.       }..   }..}...public class member.{..    private string name;.    private string alias;.    private int balance;...    public member(string fullname, string nickname).    {.        this.name = fullname;.        this.alias = nickname;.        this.balance = 0;.    }.    public void setbalance(int account).    {.        if(account &gt; 0).        {.            balance = balance + account;.        }.        else.        {.            system.out.println(\"\"you have not entered a valid number\"\");.        }.    }..    public string getname().    {.        return name;.    }.    public string getalias().    {.        return alias;.    }..    public int getbalance().    {.        return balance;.    }.}\"\\n'\n",
      " b'\"different output than expected i just started programming and right now i\\'m stuck with a problem. i\\'m wondering how if functions really work. ..a = [ 20.0, 8.0, 2.5 ].b = 4.if b &gt; len(a): .    r = 2*b.r = b...i expected the output of 8, but the actual output is 4. how come? because 4 > 3 and that should execute the if statement right?\"\\n'\n",
      " b'\"convert .class to .blank i have some .class files that i need to convert to .blank so i did:..blankp -c classname.class...and all the time i have the same error...  error:could not find classname.class...do you guys have any idea of what might be the cause? i did man blankp and as far as i know the syntax is correct. if there is another way to convert it to a .blank file, i am more than willing to try. any idea is greatly appreciated?\"\\n'\n",
      " b'\"insert an element at specific place in a list i have a problem using list.insert method. you can see my code below...z=[1,9,6,5,5,3,4,6].y=[\\'1\\',\\'4\\',\\'9\\',\\'7\\',\\'6\\',\\'5\\',\\'5\\',\\'1\\',\\'5\\',\\'0\\',\\'3\\',\\'3\\',\\'4\\',\\'1\\',\\'6\\',\\'0\\'].z.insert(z[0],int(y[1])).print(z).[1, 4, 9, 6, 5, 5, 3, 4, 6].z.insert(z[2],int(y[3])).print(z).[1, 4, 9, 6, 5, 5, 3, 4, 6, 7]...why does 7 go after 6 and not after 9????.thanks in advance!!\"\\n'\n",
      " b'\"why do both blank objects return the same data i have created 2 objects of the class gconveyor. i want to get some data about the objects when i select them, but both return the same information. thanks for the help!../* .* file: dragobjects.blank  .*/ .import acm.graphics.*; .import acm.program.*; .import blank.awt.event.*;..public class dragobjects extends graphicsprogram { .private static final long serialversionuid = 1l;.// initializes the program .public void init() { .    //adding a few test objects.    gconveyor conv = new gconveyor(50, 44, 120); .    add(conv); .    gconveyor conv2 = new gconveyor(30, 24, 60); .    add(conv2); ..    addmouselisteners(); .    addkeylisteners(); .    } ..// called on mouse press to record the coordinates of the click */ .public void mousepressed(mouseevent e) { .    // gpoint has x and y coordinate .    last = new gpoint(e.getpoint()); .    gobj = getelementat(last);  .    //looking at stuff so to understand.    getobjectdata ();.}...public void getobjectdata (){.    //looking at stuff so to understand.    system.out.println(gobj.tostring());    ..    gcontainer oblength = gobj.getparent();.    system.out.println(oblength.tostring());    ..    int d = ((gcompound) gobj).getelementcount();.    system.out.println( \"\"element per gconveyor:\"\"+ d  );..    system.out.println( \"\"hashcode:\"\" +gobj.hashcode());..    int y = this.getelementcount();.    system.out.println( \"\"this element count:\"\"+ y  );..    int a = gconveyor.getbf();      .    system.out.println( \"\"bf:\"\" + a  );.    int b = gconveyor.getef();      .    system.out.println( \"\"ef:\"\" + b  );.    int h = gconveyor.getlength();      .    system.out.println( \"\"length:\"\" + h  );.    int c = ((gconveyor) gobj).getlength();     .    system.out.println( \"\"length:\"\" + c  );       .}....// called on mouse drag to reposition the object .public void mousedragged(mouseevent e) { .    if (gobj != null) { .        gobj.move(e.getx() - last.getx(), e.gety() - last.gety()); .        last = new gpoint(e.getpoint());.        } } ../* private instance variables */.private gobject gobj; ./* the object being dragged */.private gpoint last; ..}...the following is my gconveyor class.. /* . * . * file: gconveyor.blank * this class implements a conveyor as a gcompound.. */ ..import blank.awt.color;.import acm.graphics.*; ..public class gconveyor extends gcompound {./* constants specifying frame size*/.private static final int frame_width = 2;.private static int mybf;.private static int myef;.private static int mylength;..private static final double scale = 10;./* private instance variables */.private grect outer;.private grect chain_box;.private grect effwidth;.private gpolygon pti;.private gpolygon pto;..public gconveyor(int bf, int ef, int length) {.outer = new grect(length, ((frame_width *2) + bf));.chain_box = new grect(length , bf - ef);.effwidth = new grect(length, bf);.pti = createanchor(scale);.pto = createanchor(scale);.add(outer, 0 , 0);.add(chain_box, 0 , frame_width);.add(effwidth, 0 , frame_width);.add(pti, 0 , frame_width + (bf-ef) + (ef/2));.add(pto, length , frame_width + (bf-ef) + (ef/2));..mybf = bf;.myef = ef;.mylength = length;..}..public static int getbf(){.return mybf;.}.public static int getef(){.return myef; .}.public static int getlength(){.return mylength;.}.../* creates a hex for the anchor */.private gpolygon createanchor(double scale) {.gpolygon poly = new gpolygon();.poly.addvertex(-0.25*scale, 0.433*scale);.poly.addvertex(-0.5*scale, 0.0*scale);.poly.addvertex(-0.25*scale, -0.433*scale);.poly.addvertex(0.25*scale, -0.433*scale);.poly.addvertex(0.5*scale, 0.0*scale);.poly.addvertex(0.25*scale, 0.433*scale);.poly.setfilled(true);.poly.setfillcolor(color.blue);.return poly;.}..public string tostring(){.return(\"\"\"\" +mybf+ +myef+ +mylength+ \"\"\"\");..}..}\"\\n'\n",
      " b'\"convert image into pixel dataframe into csv file using blank i have folder with pictures (\"\"c:usersadmindownloadsmypicture\"\").here example of it.8.and2..i want convert it to pixel dataframe like this..  pixel1 pixel. pixel158 pixel159 pixel160 pixel161 pixel162 pixel163 pixel164 pixel165 pixel166 pixel167 pixel168 pixel169 pixel170 pixel171 pixel172.1      0      \\xe2\\x80\\xa6        0      191      250      253       93        0        0        0        0        0        0        0        0        0        0.2      0      \\xe2\\x80\\xa6       32        0        0        0        0        0        0        0        0        0        0        0        0        0        0.  pixel173 pixel174 pixel175 pixel176.1        0        0        0        0.2        0        0       16      179...every image is represented as a single row . the greyscale of each image falls in the range [0, 255]..i do so..img = mpimg.imread(\"\"c:usersadmindownloadsmypicture\"\").img = np.ravel(img) .df = pd.dataframe([img])...but i get this error..syntaxerror: (unicode error) \\'unicodeescape\\' codec can\\'t decode bytes in position 2-3: truncated uxxxxxxxx escape...how can i get desired data frame in csv file?\"\\n'\n",
      " b'\"difference between \\'()\\' or \\'(othermodule)\\' before module close and after module close in blank i\\'m new in blank modules. i read many articles for that, and find modules are defined by two different ways below:..// \\'()\\' after module close.var firstmodule = (function() {.  // module defination goes here.})();..// \\'()\\' before module close.var secondmodule = (function() {.  // module definition goes here.}());...i try both and not find any difference...please reply what is the difference between both, and in which case we\\'ve to use which type of declaration?\"\\n'\n",
      " b'dynamic image blank code can you recommend some blank that will create a frontpage image rotation with links similar to this:..http://www.jhilburn.com/..preferably blank only in the body would be good.\\n'\n",
      " b'\"where are the blank packages and dependencies located? creating a package with composer, dependencies are stored in /vendor folder..creating a package with npm, dependencies are stored in /node_modules folder..creating a package with pip, where are the dependencies stored? and why it\\'s different?\"\\n'\n",
      " b'\"option and validation in blank i want to add a new option on my system where i want to add two text files, both rental.txt and customer.txt. inside each text are id numbers of the customer, the videotape they need and the price...i want to place it as an option on my code. right now i have:...add customer.rent return.view list.search.exit...i want to add this as my sixth option. say for example i ordered a video, it would display the price and would let me confirm the price and if i am going to buy it or not...here is my current code:..  import blank.io.*;.    import blank.util.arraylist;.    import static blank.lang.system.out;..    public class rentalsystem{.    static bufferedreader input = new bufferedreader(new inputstreamreader(system.in));.    static file file = new file(\"\"file.txt\"\");.    static arraylist&lt;string&gt; list = new arraylist&lt;string&gt;();.    static int rows;..    public static void main(string[] args) throws exception{.        introduction();.        system.out.print(\"\"nn\"\");.        login();.        system.out.print(\"\"nnnnnnnnnnnnnnnnnnnnnn\"\");.        introduction();.        string repeat;.        do{.            loadfile();.            system.out.print(\"\"nwhat do you want to do?nn\"\");.            system.out.print(\"\"n                    - - - - - - - - - - - - - - - - - - - - - - -\"\");.            system.out.print(\"\"nn                    |     1. add customer    |   2. rent return |n\"\");.            system.out.print(\"\"n                    - - - - - - - - - - - - - - - - - - - - - - -\"\");.            system.out.print(\"\"nn                    |     3. view list       |   4. search      |n\"\");.            system.out.print(\"\"n                    - - - - - - - - - - - - - - - - - - - - - - -\"\");.            system.out.print(\"\"nn                                             |   5. exit        |n\"\");.            system.out.print(\"\"n                                              - - - - - - - - - -\"\");.            system.out.print(\"\"nnchoice:\"\");.            int choice = integer.parseint(input.readline());.            switch(choice){.                case 1:.                    writedata();.                    break;.                case 2:.                    rentdata();.                    break;.                case 3:.                    viewlist();.                    break;.                case 4:.                    search();.                    break;.                case 5:.                    system.out.println(\"\"goodbye!\"\");.                    system.exit(0);.                default:.                    system.out.print(\"\"invalid choice: \"\");.                    break;.            }.            system.out.print(\"\"ndo another task? [y/n] \"\");.            repeat = input.readline();.        }while(repeat.equals(\"\"y\"\"));..        if(repeat!=\"\"y\"\") system.out.println(\"\"ngoodbye!\"\");..    }..    public static void writedata() throws exception{.        system.out.print(\"\"nname: \"\");.        string cname = input.readline();.        system.out.print(\"\"address: \"\");.        string add = input.readline();.        system.out.print(\"\"phone no.: \"\");.        string pno = input.readline();.        system.out.print(\"\"rental amount: \"\");.        string ramount = input.readline();.        system.out.print(\"\"tapenumber: \"\");.        string tno = input.readline();.        system.out.print(\"\"title: \"\");.        string title = input.readline();.        system.out.print(\"\"date borrowed: \"\");.        string dborrowed = input.readline();.        system.out.print(\"\"due date: \"\");.        string ddate = input.readline();.        createline(cname, add, pno, ramount,tno, title, dborrowed, ddate);.        rentdata();.    }..    public static void createline(string name, string address, string phone , string rental, string tapenumber, string title, string borrowed, string due) throws exception{.        filewriter fw = new filewriter(file, true);.        fw.write(\"\"nname: \"\"+name + \"\"naddress: \"\" + address +\"\"nphone no.: \"\"+ phone+\"\"nrentalamount: \"\"+rental+\"\"ntape no.: \"\"+ tapenumber+\"\"ntitle: \"\"+ title+\"\"ndate borrowed: \"\"+borrowed +\"\"ndue date: \"\"+ due+\"\":rn\"\");.        fw.close();.    }..    public static void loadfile() throws exception{.        try{.            list.clear();.            fileinputstream fstream = new fileinputstream(file);.            bufferedreader br = new bufferedreader(new inputstreamreader(fstream));.            rows = 0;.            while( br.ready()).            {.                list.add(br.readline());.                rows++;.            }.            br.close();.        } catch(exception e){.            system.out.println(\"\"list not yet loaded.\"\");.        }.    }..    public static void viewlist(){.        system.out.print(\"\"n~ ~ ~ ~ ~ ~ ~ ~ ~ ~ ~\"\");.        system.out.print(\"\" |list of all costumers|\"\");.        system.out.print(\"\"~ ~ ~ ~ ~ ~ ~ ~ ~ ~ ~\"\");.        for(int i = 0; i &lt;rows; i++){.            system.out.println(list.get(i));.        }.    }.        public static void rentdata()throws exception.    {   system.out.print(\"\"n~ ~ ~ ~ ~ ~ ~ ~ ~ ~ ~\"\");.        system.out.print(\"\" |rent data list|\"\");.        system.out.print(\"\"~ ~ ~ ~ ~ ~ ~ ~ ~ ~ ~\"\");.        system.out.print(\"\"nenter customer name: \"\");.        string cname = input.readline();.        system.out.print(\"\"date borrowed: \"\");.        string dborrowed = input.readline();.        system.out.print(\"\"due date: \"\");.        string ddate = input.readline();.        system.out.print(\"\"return date: \"\");.        string rdate = input.readline();.        system.out.print(\"\"rent amount: \"\");.        string ramount = input.readline();..        system.out.print(\"\"you pay:\"\"+ramount);...    }.    public static void search()throws exception.    {   system.out.print(\"\"n~ ~ ~ ~ ~ ~ ~ ~ ~ ~ ~\"\");.        system.out.print(\"\" |search costumers|\"\");.        system.out.print(\"\"~ ~ ~ ~ ~ ~ ~ ~ ~ ~ ~\"\");.        system.out.print(\"\"nenter costumer name: \"\");.        string cname = input.readline();.        boolean found = false;..        for(int i=0; i &lt; rows; i++){.            string temp[] = list.get(i).split(\"\",\"\");..            if(cname.equals(temp[0])){.            system.out.println(\"\"search result:nyou are \"\" + temp[0] + \"\" from \"\" + temp[1] + \"\".\"\"+ temp[2] + \"\".\"\"+ temp[3] + \"\".\"\"+ temp[4] + \"\".\"\"+ temp[5] + \"\" is \"\" + temp[6] + \"\".\"\"+ temp[7] + \"\" is \"\" + temp[8] + \"\".\"\");.                found = true;.            }.        }..        if(!found){.            system.out.print(\"\"no results.\"\");.        }..    }..        public static boolean evaluate(string uname, string pass){.        if (uname.equals(\"\"admin\"\")&amp;&amp;pass.equals(\"\"12345\"\")) return true;.        else return false;.    }..    public static string login()throws exception{.        bufferedreader input=new bufferedreader(new inputstreamreader(system.in));.        int counter=0;.        do{.            system.out.print(\"\"username:\"\");.            string uname =input.readline();.            system.out.print(\"\"password:\"\");.            string pass =input.readline();..            boolean accept= evaluate(uname,pass);..            if(accept){.                break;.                }else{.                    system.out.println(\"\"incorrect username or password!\"\");.                    counter ++;.                    }.        }while(counter&lt;3);..            if(counter !=3) return \"\"login successful\"\";.            else return \"\"login failed\"\";.            }.        public static void introduction() throws exception{..        system.out.println(\"\"                  - - - - - - - - - - - - - - - - - - - - - - - - -\"\");.        system.out.println(\"\"                  !                  r e n t a l                  !\"\");.        system.out.println(\"\"                   ! ~ ~ ~ ~ ~ !  =================  ! ~ ~ ~ ~ ~ !\"\");.        system.out.println(\"\"                  !                  s y s t e m                  !\"\");.        system.out.println(\"\"                  - - - - - - - - - - - - - - - - - - - - - - - - -\"\");.        }..}\"\\n'\n",
      " b'\"compare strings in array after split in blank i have a string that i use split function on it in order to split it to the different parts..then i want to check if the array contain a certain value, i tried using a for loop and also converting the array to a list and using the contain options but i get the same result - the text is not in the array...p.s..i edited the code to show a better example...string categories = \"\"c1-c-d-a-1-\\xd0\\xb2\"\";.string[] cat = categories.split(\"\"-\"\");.string catcode = \"\"b\"\";..//always return false.if (arrays.aslist(cat).contains(catcode)).{.//do somthing.}..for (int idxcat = 0; idxcat &lt; cat.length; idxcat++) {.    //always return false.    if ((cat[idxcat]).equals(catcode)).    {.       //do somthing.       break;.     }.}\"\\n'\n",
      " b'\"why is this printing when i have not printed it import blank.util.scanner;.import blank.io.file;.import blank.util.hashmap;.import blank.util.arraylist;.../**. * class that contains helper methods for the review lab. **/.public class review {..    public static void main(string[] args) {.        //system.out.print(sentimentval(\"\"ok\"\"));.        //system.out.println(totalsentiment(\"\"simplereview.txt\"\"));.        system.out.println(starrating(\"\"simplereview.txt\"\"));.        //system.out.println(fakereview(\"\"simplereview.txt\"\"));.    }....../*  public static double totalsentiment(string filename) {.        string review = texttostring(\"\"simplereview.txt\"\");   ..        int s =  review.indexof(\"\" \"\");.        double sum = 0;..        //take first word from whole string.        //review.substring(0 --&gt; \"\" \"\")..        string firstword = removepunctuation(review.substring(0, review.indexof(\"\" \"\")));.        sum += sentimentval(firstword);..        while(s != -1) {.            int nextspace = review.indexof(\"\" \"\", s + 1);.            string word;..            if (nextspace != -1){.                word = removepunctuation(review.substring(s + 1, nextspace));.                sum += sentimentval(word);...            } else {.                word = removepunctuation(review.substring(s + 1));.                sum += sentimentval(word);..            }..            //system.out.println(sentimentval(word));....            s = nextspace; .        }..        return sum;....    } */.....  private static hashmap&lt;string, double&gt; sentiment = new hashmap&lt;string, double&gt;();.  private static arraylist&lt;string&gt; posadjectives = new arraylist&lt;string&gt;();.  private static arraylist&lt;string&gt; negadjectives = new arraylist&lt;string&gt;();...  private static final string space = \"\" \"\";..  static{.    try {.      scanner input = new scanner(new file(\"\"cleansentiment.csv\"\"));.      while(input.hasnextline()){.        string[] temp = input.nextline().split(\"\",\"\");.        sentiment.put(temp[0],double.parsedouble(temp[1]));.        //system.out.println(\"\"added \"\"+ temp[0]+\"\", \"\"+temp[1]);.      }.      input.close();.    }.    catch(exception e){.      system.out.println(\"\"error reading or parsing cleansentiment.csv\"\");.    }...  //read in the positive adjectives in postiveadjectives.txt.     try {.      scanner input = new scanner(new file(\"\"positiveadjectives.txt\"\"));.      while(input.hasnextline()){.        string temp = input.nextline().trim();.        system.out.println(temp);.        posadjectives.add(temp);.      }.      input.close();.    }.    catch(exception e){.      system.out.println(\"\"error reading or parsing postitiveadjectives.txtn\"\" + e);.    }   ..  //read in the negative adjectives in negativeadjectives.txt.     try {.      scanner input = new scanner(new file(\"\"negativeadjectives.txt\"\"));.      while(input.hasnextline()){.        negadjectives.add(input.nextline().trim());.      }.      input.close();.    }.    catch(exception e){.      system.out.println(\"\"error reading or parsing negativeadjectives.txt\"\");.    }   .  }..  /** .   * returns a string containing all of the text in filename (including punctuation), .   * with words separated by a single space .   */.  public static string texttostring( string filename ).  {  .    string temp = \"\"\"\";.    try {.      scanner input = new scanner(new file(filename));..      //add \\'words\\' in the file to the string, separated by a single space.      while(input.hasnext()){.        temp = temp + input.next() + \"\" \"\";.      }.      input.close();..    }.    catch(exception e){.      system.out.println(\"\"unable to locate \"\" + filename);.    }.    //make sure to remove any additional space that may have been added at the end of the . string..    return temp.trim();.  }..  /**.   * @returns the sentiment value of word as a number between -1 (very negative) to 1 (very . positive sentiment) .   */.  public static double sentimentval( string word ).  {.    try.    {.      return sentiment.get(word.tolowercase());.    }.    catch(exception e).    {.      return 0;.    }.  }..  /**.   * returns the ending punctuation of a string, or the empty string if there is none .   */.  public static string getpunctuation( string word ).  { .    string punc = \"\"\"\";.    for(int i=word.length()-1; i &gt;= 0; i--){.      if(!character.isletterordigit(word.charat(i))){.        punc = punc + word.charat(i);.      } else {.        return punc;.      }.    }.    return punc;.  }..    /**.   * returns the word after removing any beginning or ending punctuation.   */.  public static string removepunctuation( string word ).  {.    while(word.length() &gt; 0 &amp;&amp; !character.isalphabetic(word.charat(0))).    {.      word = word.substring(1);.    }.    while(word.length() &gt; 0 &amp;&amp; !character.isalphabetic(word.charat(word.length()-1))).    {.      word = word.substring(0, word.length()-1);.    }..    return word;.  }..  /** .   * randomly picks a positive adjective from the positiveadjectives.txt file and returns it..   */.  public static string randompositiveadj().  {.    int index = (int)(math.random() * posadjectives.size());.    return posadjectives.get(index);.  }..  /** .   * randomly picks a negative adjective from the negativeadjectives.txt file and returns it..   */.  public static string randomnegativeadj().  {.    int index = (int)(math.random() * negadjectives.size());.    return negadjectives.get(index);..  }..  /** .   * randomly picks a positive or negative adjective and returns it..   */.  public static string randomadjective().  {.    boolean positive = math.random() &lt; .5;.    if(positive){.      return randompositiveadj();.    } else {.      return randomnegativeadj();.    }.  }.....  /** activity 2 starrating method.  write the starrating method here which returns the number of stars for the review based on .enter code here its totalsentiment.. * @param filename .*/....public static int starrating(string filename){..    // determine number of stars between 0 and 4 based on totalsentiment value ..     double totalsentiment = totalsentiment(\"\"simplereview.txt\"\");..     // write if statements here.     if (totalsentiment &lt; 15 &amp;&amp; totalsentiment &gt;= 10) {.         return 4;.     } else if(totalsentiment &lt; 10 &amp;&amp; totalsentiment &gt;= 5) {.         return 3;.     } else if(totalsentiment &lt; 5 &amp;&amp; totalsentiment &gt;= 0) {.         return 2;.     } else if(totalsentiment &lt; 0) {.         return 1;.     } else {.         return 0;.     }...}..    public static double totalsentiment(string simplereview) {.        string review = texttostring(\"\"simplereview.txt\"\");   .        int s =  review.indexof(\"\" \"\");.        double sum = 0;..        //take first word from whole string.        //review.substring(0 --&gt; \"\" \"\")..        string firstword = removepunctuation(review.substring(0, review.indexof(\"\" \"\")));.        sum += sentimentval(firstword);..        while(s != -1) {.            int nextspace = review.indexof(\"\" \"\", s + 1);.            string word;..            if (nextspace != -1){.                word = removepunctuation(review.substring(s + 1, nextspace));.                sum += sentimentval(word);...            } else {.                word = removepunctuation(review.substring(s + 1));.                sum += sentimentval(word);..            }..            s = nextspace; .        }..        return sum;...    }..}...while i am running my code, it will print a list of my positiveadjectives. i am not even running that code, so i am confused as to why this is happening...can anyone help please :)..i am currently working on a cs project which is ultimately taking a review on a .txt file then the adjectives to random one selected from a random positive or random negative adjective. this is shown in the code, but what is not is the .txt file for the review\"\\n'\n",
      " b'\"blank function not always firing i have a blank function which fires towards the end of a page load.  it looks like this.....&lt;script language=\"\"blank\"\" type=\"\"text/blank\"\"&gt;.    showadverts();.&lt;/script&gt;...so in other words it fires without the user interaction...i\\'ve never had any problem with this but recently a few of our customers are not seeing the results of this function which leads me to bleive that on some browsers it\\'s sometimes blocked.  the prob has now occurred on ff, chrome and ie and would therfore appear to be browser independent...any ideas as to the random nature of this problem ?..thanks in advance\"\\n'\n",
      " b'\"making modular blank library by importing class methods without need to the whole class i\\'m trying to make a reusable blank library for example books class and have createbook, checkforbook, modify book methods ..i want to use it like so ..import library, {checkforbook, modifybook} from \\'books\\'...library.createbook({. name : \\'firstbook\\',. year: 2012.})...checkforbook(\\'firstbook\\')..modifybook(\\'firstbook\\',{.  name: \\'secondbook\\'.})....my problem right now is: how to do it without need to use new keywrod , and how to use methods wihout need to make it like library.checkforbook.and still have access to the list of books\"\\n'\n",
      " b'\"why testing args.length? i\\'m a blank beginner and i\\'m confused about testing args.length at the begining of many codes, and why it\\'s never gets higher than 0 in any of my codes?..import blank.net.socket;.import blank.net.unknownhostexception;.import blank.io.ioexception;..public class lowportscanner {.public static void main(string[] args) {.string host = \"\"localhost\"\";.if (args.length &gt; 0) {.host = args[0];.}.for (int i = 1; i &lt; 1024; i++) {.try {.socket s = new socket(host, i);.system.out.println(\"\"there is a server on port \"\" + i + \"\" of \"\".+ host);.}.catch (unknownhostexception ex) {.system.err.println(ex);.break;.}.catch (ioexception ex) {}.} // end for.} // end main.} // end portscanner\"\\n'\n",
      " b'\"trying to convert a list of date(actrived from database) to format(yyyy-mm) public list&lt;date&gt; getdate(){.    @suppresswarnings(\"\"unchecked\"\").    list&lt;string&gt; cr =          (list&lt;string&gt;)getsession().createcriteria(orderentity.class).            .setprojection(projections.projectionlist().                    .add(property.forname(\"\"ordertime\"\")).                    ).            .list();.    system.out.println(\"\"zxcv\"\");.    system.out.println(cr);//the output is here [2017-10-23 15:15:53.0, 2017-10-25 11:53:56.0, 2017-10-25 11:54:35.0}.    list&lt;date&gt; dates = new arraylist(cr.size());.    simpledateformat sdf = new simpledateformat(\"\"yyyy-mm\"\");.    for (string datestring : cr) {.        dates.add(sdf.parse(datestring));.    }.    system.out.println(dates);.    return dates;.}...there is the error :...  blank.sql.timestamp cannot be cast to blank.lang.string....please tell me how to solve this error,.thank you so much.\"\\n'\n",
      " b'\"insert table into docx file using docx project i create a word document using docx project...i need to insert table into my doc , but i don\\'t know what should i do?..string filename = @\"\"d:usersjohndocumentsdocxexample.docx\"\";..// create a document in memory:.var doc = docx.create(filename);..// insert a paragrpah:.//doc.insertparagraph(\"\"this is my first paragraph\"\");..// save to the output directory:.doc.save();..// open in word:.process.start(\"\"winword.exe\"\", filename);\"\\n'\n",
      " b'\"plotting a tuple in blank in blank, what is the syntax that will let me plot a tuple such as..t = [(9,2,5),(3,6,4),(2,8,4)]...i am having trouble since there are three elements in each combination.\"\\n'\n",
      " b'\"is it possible to reuse a connection when accessing multiple tables in blank? i am new to blank. i have a program which reads multiple tables in single database. suppose if i am reading table a so before reading this i have to connect to database in blank. after this i have to fetch some information from table b. do i have to give the server info, userid and password again to connect to database?\"\\n'\n",
      " b'how can i monitor the process using blank? i want my application to monitor and log the process that are started and terminated in winxp machine during the existence of my application. i dont want to get all the process names that are running. how can i achieve this ? any ideas appreciated.. thanks.\\n'\n",
      " b'\"remove line break from string not working i\\'m attempting to remove a carriage return from a blank string, but not having much luck so far.  here\\'s what i currently have code wise.  you can have a look at the desired strings needed below compared to what i\\'m getting...public static void main(string[] args) {.    string tempstring = \"\"\"\";.    string tempstringtwo = \"\"\"\";.    string [] convertedlines = new string [100];.    int counter = 0;.    int tempcount = 0;..    file file = new file(\"\"input.txt\"\");.    if (!file.exists()) {.        system.out.println(args[0] + \"\" does not exist.\"\");.    return;.    }.    if (!(file.isfile() &amp;&amp; file.canread())) {.        system.out.println(file.getname() + \"\" cannot be read from.\"\");.    return;.    }.    try {.        fileinputstream fis = new fileinputstream(file);.        char current;..        while (fis.available() &gt; 0) { // filesystem still available to read bytes from file.            current = (char) fis.read();.            tempstring = tempstring + current;.            int character = (int) current;.            if (character==13) { // found a line break in the file, need to ignore it..                //tempstring = tempstring.replace(\"\"n\"\",\"\" \"\").replace(\"\"r\"\",\"\" \"\");.                tempstring = tempstring.replaceall(\"\"\\\\r|\\\\n\"\", \"\" \"\");.                //tempstring = tempstring.substring(0,tempstring.length()-1);.                //system.out.println(tempstring);.            }.            if (character==46) { // found a period.                //system.out.println(\"\"found a period.\"\");.                convertedlines[counter] = tempstring;.                tempstring = \"\"\"\";.                counter++;.                tempcount = counter;.            }..        }.    } catch (ioexception e) {.        e.printstacktrace();.    }.    system.out.println(\"\"------------------------------------------------\"\");.    for (int z=0;z&lt;tempcount;z++){.        system.out.println(convertedlines[z]);.    }    .}...here\\'s my current output.....the quick brown fox .jumps over the lazy dogs..now is the  time for all good men to come to the .aid of their country..all your base are .belong to us....here\\'s what i need.....the quick brown fox jumps over the lazy dogs..now is the time for all good men to come to the aid of their country..all your base are belong to us.\"\\n'], shape=(32,), dtype=string)\n",
      "tf.Tensor([2 2 2 3 0 3 2 2 0 0 2 1 3 1 3 1 3 2 2 3 1 1 1 2 2 1 1 0 3 0 0 1], shape=(32,), dtype=int32)\n"
     ]
    }
   ],
   "source": [
    "text_batch, label_batch = next(iter(raw_train_ds))\n",
    "print(text_batch)\n",
    "print(label_batch)"
   ]
  },
  {
   "cell_type": "code",
   "execution_count": 122,
   "metadata": {},
   "outputs": [
    {
     "name": "stdout",
     "output_type": "stream",
     "text": [
      "Text tf.Tensor(b'\"blank strip all url parameters from string? i\\'ve got an url in a string like this:..http://url.com?page=121&amp;param1=hello&amp;param2=bye#hello...the above could be something else as well meaning it will be dynamic...how could i only keep the \"\"main page\"\"? in the above it would be:..http://url.com?page=121\"\\n', shape=(), dtype=string)\n",
      "Label javascript\n",
      "Vectorized review (<tf.Tensor: shape=(1, 150), dtype=int64, numpy=\n",
      "array([[  16, 1769,   73,  288,  488,   31,   18,  195,  275,   32,  288,\n",
      "           7,    5,   18,   48,    1,  250,  176,   33,  146,   49,   36,\n",
      "         481, 1904,   11,   72,   33,    1,  176,    3,   93,  355,    2,\n",
      "         153,  220,    7,    2,  250,   11,   69,    1,    0,    0,    0,\n",
      "           0,    0,    0,    0,    0,    0,    0,    0,    0,    0,    0,\n",
      "           0,    0,    0,    0,    0,    0,    0,    0,    0,    0,    0,\n",
      "           0,    0,    0,    0,    0,    0,    0,    0,    0,    0,    0,\n",
      "           0,    0,    0,    0,    0,    0,    0,    0,    0,    0,    0,\n",
      "           0,    0,    0,    0,    0,    0,    0,    0,    0,    0,    0,\n",
      "           0,    0,    0,    0,    0,    0,    0,    0,    0,    0,    0,\n",
      "           0,    0,    0,    0,    0,    0,    0,    0,    0,    0,    0,\n",
      "           0,    0,    0,    0,    0,    0,    0,    0,    0,    0,    0,\n",
      "           0,    0,    0,    0,    0,    0,    0,    0,    0,    0,    0,\n",
      "           0,    0,    0,    0,    0,    0,    0]])>, <tf.Tensor: shape=(), dtype=int32, numpy=2>)\n"
     ]
    }
   ],
   "source": [
    "first_text, first_label = text_batch[5], label_batch[5]\n",
    "\n",
    "print(\"Text\", first_text)\n",
    "print(\"Label\", raw_train_ds.class_names[first_label])\n",
    "print(\"Vectorized review\", vectorize_text(first_text, first_label))\n"
   ]
  },
  {
   "cell_type": "code",
   "execution_count": 123,
   "metadata": {},
   "outputs": [
    {
     "name": "stdout",
     "output_type": "stream",
     "text": [
      "1287 --->  scissors\n",
      " 313 --->  source\n",
      "Vocabulary size: 15000\n"
     ]
    }
   ],
   "source": [
    "print(\"1287 ---> \",vectorize_layer.get_vocabulary()[1287])\n",
    "print(\" 313 ---> \",vectorize_layer.get_vocabulary()[313])\n",
    "print('Vocabulary size: {}'.format(len(vectorize_layer.get_vocabulary())))"
   ]
  },
  {
   "cell_type": "code",
   "execution_count": 184,
   "metadata": {},
   "outputs": [],
   "source": [
    "train_ds = raw_train_ds.map(vectorize_text)\n",
    "val_ds = raw_val_ds.map(vectorize_text)\n",
    "test_ds = raw_test_ds.map(vectorize_text)\n",
    "\n",
    "AUTOTUNE = tf.data.AUTOTUNE\n",
    "\n",
    "train_ds = train_ds.cache().prefetch(buffer_size=AUTOTUNE)\n",
    "val_ds = val_ds.cache().prefetch(buffer_size=AUTOTUNE)\n",
    "test_ds = test_ds.cache().prefetch(buffer_size=AUTOTUNE)"
   ]
  },
  {
   "cell_type": "code",
   "execution_count": null,
   "metadata": {},
   "outputs": [
    {
     "data": {
      "text/html": [
       "<pre style=\"white-space:pre;overflow-x:auto;line-height:normal;font-family:Menlo,'DejaVu Sans Mono',consolas,'Courier New',monospace\"><span style=\"font-weight: bold\">Model: \"sequential_14\"</span>\n",
       "</pre>\n"
      ],
      "text/plain": [
       "\u001b[1mModel: \"sequential_14\"\u001b[0m\n"
      ]
     },
     "metadata": {},
     "output_type": "display_data"
    },
    {
     "data": {
      "text/html": [
       "<pre style=\"white-space:pre;overflow-x:auto;line-height:normal;font-family:Menlo,'DejaVu Sans Mono',consolas,'Courier New',monospace\">┏━━━━━━━━━━━━━━━━━━━━━━━━━━━━━━━━━┳━━━━━━━━━━━━━━━━━━━━━━━━┳━━━━━━━━━━━━━━━┓\n",
       "┃<span style=\"font-weight: bold\"> Layer (type)                    </span>┃<span style=\"font-weight: bold\"> Output Shape           </span>┃<span style=\"font-weight: bold\">       Param # </span>┃\n",
       "┡━━━━━━━━━━━━━━━━━━━━━━━━━━━━━━━━━╇━━━━━━━━━━━━━━━━━━━━━━━━╇━━━━━━━━━━━━━━━┩\n",
       "│ embedding_14 (<span style=\"color: #0087ff; text-decoration-color: #0087ff\">Embedding</span>)        │ ?                      │   <span style=\"color: #00af00; text-decoration-color: #00af00\">0</span> (unbuilt) │\n",
       "├─────────────────────────────────┼────────────────────────┼───────────────┤\n",
       "│ dropout_28 (<span style=\"color: #0087ff; text-decoration-color: #0087ff\">Dropout</span>)            │ ?                      │             <span style=\"color: #00af00; text-decoration-color: #00af00\">0</span> │\n",
       "├─────────────────────────────────┼────────────────────────┼───────────────┤\n",
       "│ global_average_pooling1d_14     │ ?                      │             <span style=\"color: #00af00; text-decoration-color: #00af00\">0</span> │\n",
       "│ (<span style=\"color: #0087ff; text-decoration-color: #0087ff\">GlobalAveragePooling1D</span>)        │                        │               │\n",
       "├─────────────────────────────────┼────────────────────────┼───────────────┤\n",
       "│ dropout_29 (<span style=\"color: #0087ff; text-decoration-color: #0087ff\">Dropout</span>)            │ ?                      │             <span style=\"color: #00af00; text-decoration-color: #00af00\">0</span> │\n",
       "├─────────────────────────────────┼────────────────────────┼───────────────┤\n",
       "│ dense_14 (<span style=\"color: #0087ff; text-decoration-color: #0087ff\">Dense</span>)                │ ?                      │   <span style=\"color: #00af00; text-decoration-color: #00af00\">0</span> (unbuilt) │\n",
       "└─────────────────────────────────┴────────────────────────┴───────────────┘\n",
       "</pre>\n"
      ],
      "text/plain": [
       "┏━━━━━━━━━━━━━━━━━━━━━━━━━━━━━━━━━┳━━━━━━━━━━━━━━━━━━━━━━━━┳━━━━━━━━━━━━━━━┓\n",
       "┃\u001b[1m \u001b[0m\u001b[1mLayer (type)                   \u001b[0m\u001b[1m \u001b[0m┃\u001b[1m \u001b[0m\u001b[1mOutput Shape          \u001b[0m\u001b[1m \u001b[0m┃\u001b[1m \u001b[0m\u001b[1m      Param #\u001b[0m\u001b[1m \u001b[0m┃\n",
       "┡━━━━━━━━━━━━━━━━━━━━━━━━━━━━━━━━━╇━━━━━━━━━━━━━━━━━━━━━━━━╇━━━━━━━━━━━━━━━┩\n",
       "│ embedding_14 (\u001b[38;5;33mEmbedding\u001b[0m)        │ ?                      │   \u001b[38;5;34m0\u001b[0m (unbuilt) │\n",
       "├─────────────────────────────────┼────────────────────────┼───────────────┤\n",
       "│ dropout_28 (\u001b[38;5;33mDropout\u001b[0m)            │ ?                      │             \u001b[38;5;34m0\u001b[0m │\n",
       "├─────────────────────────────────┼────────────────────────┼───────────────┤\n",
       "│ global_average_pooling1d_14     │ ?                      │             \u001b[38;5;34m0\u001b[0m │\n",
       "│ (\u001b[38;5;33mGlobalAveragePooling1D\u001b[0m)        │                        │               │\n",
       "├─────────────────────────────────┼────────────────────────┼───────────────┤\n",
       "│ dropout_29 (\u001b[38;5;33mDropout\u001b[0m)            │ ?                      │             \u001b[38;5;34m0\u001b[0m │\n",
       "├─────────────────────────────────┼────────────────────────┼───────────────┤\n",
       "│ dense_14 (\u001b[38;5;33mDense\u001b[0m)                │ ?                      │   \u001b[38;5;34m0\u001b[0m (unbuilt) │\n",
       "└─────────────────────────────────┴────────────────────────┴───────────────┘\n"
      ]
     },
     "metadata": {},
     "output_type": "display_data"
    },
    {
     "data": {
      "text/html": [
       "<pre style=\"white-space:pre;overflow-x:auto;line-height:normal;font-family:Menlo,'DejaVu Sans Mono',consolas,'Courier New',monospace\"><span style=\"font-weight: bold\"> Total params: </span><span style=\"color: #00af00; text-decoration-color: #00af00\">0</span> (0.00 B)\n",
       "</pre>\n"
      ],
      "text/plain": [
       "\u001b[1m Total params: \u001b[0m\u001b[38;5;34m0\u001b[0m (0.00 B)\n"
      ]
     },
     "metadata": {},
     "output_type": "display_data"
    },
    {
     "data": {
      "text/html": [
       "<pre style=\"white-space:pre;overflow-x:auto;line-height:normal;font-family:Menlo,'DejaVu Sans Mono',consolas,'Courier New',monospace\"><span style=\"font-weight: bold\"> Trainable params: </span><span style=\"color: #00af00; text-decoration-color: #00af00\">0</span> (0.00 B)\n",
       "</pre>\n"
      ],
      "text/plain": [
       "\u001b[1m Trainable params: \u001b[0m\u001b[38;5;34m0\u001b[0m (0.00 B)\n"
      ]
     },
     "metadata": {},
     "output_type": "display_data"
    },
    {
     "data": {
      "text/html": [
       "<pre style=\"white-space:pre;overflow-x:auto;line-height:normal;font-family:Menlo,'DejaVu Sans Mono',consolas,'Courier New',monospace\"><span style=\"font-weight: bold\"> Non-trainable params: </span><span style=\"color: #00af00; text-decoration-color: #00af00\">0</span> (0.00 B)\n",
       "</pre>\n"
      ],
      "text/plain": [
       "\u001b[1m Non-trainable params: \u001b[0m\u001b[38;5;34m0\u001b[0m (0.00 B)\n"
      ]
     },
     "metadata": {},
     "output_type": "display_data"
    }
   ],
   "source": [
    "embedding_dim = 16\n",
    "model = tf.keras.Sequential([\n",
    "  layers.Embedding(max_features, embedding_dim),\n",
    "  layers.Dropout(0.2),\n",
    "  layers.GlobalAveragePooling1D(),\n",
    "  layers.Dropout(0.2),\n",
    "  layers.Dense(4, activation='softmax')]) #1 in case of binary, as well as sigmoid function\n",
    "\n",
    "model.summary()"
   ]
  },
  {
   "cell_type": "code",
   "execution_count": null,
   "metadata": {},
   "outputs": [],
   "source": [
    "model.compile(loss=losses.SparseCategoricalCrossentropy(from_logits=True) , #losses.BinaryEntropy in case of binary classes\n",
    "              optimizer='adam',\n",
    "              metrics=['accuracy']) #BinaryAccuracy in case of binary classes"
   ]
  },
  {
   "cell_type": "code",
   "execution_count": 191,
   "metadata": {},
   "outputs": [
    {
     "name": "stdout",
     "output_type": "stream",
     "text": [
      "Epoch 1/25\n",
      "\u001b[1m200/200\u001b[0m \u001b[32m━━━━━━━━━━━━━━━━━━━━\u001b[0m\u001b[37m\u001b[0m \u001b[1m2s\u001b[0m 3ms/step - accuracy: 0.3200 - loss: 1.3758 - val_accuracy: 0.4850 - val_loss: 1.3311\n",
      "Epoch 2/25\n",
      "\u001b[1m200/200\u001b[0m \u001b[32m━━━━━━━━━━━━━━━━━━━━\u001b[0m\u001b[37m\u001b[0m \u001b[1m0s\u001b[0m 2ms/step - accuracy: 0.4911 - loss: 1.3122 - val_accuracy: 0.5800 - val_loss: 1.2310\n",
      "Epoch 3/25\n",
      "\u001b[1m200/200\u001b[0m \u001b[32m━━━━━━━━━━━━━━━━━━━━\u001b[0m\u001b[37m\u001b[0m \u001b[1m0s\u001b[0m 2ms/step - accuracy: 0.5749 - loss: 1.2071 - val_accuracy: 0.6219 - val_loss: 1.1132\n",
      "Epoch 4/25\n",
      "\u001b[1m200/200\u001b[0m \u001b[32m━━━━━━━━━━━━━━━━━━━━\u001b[0m\u001b[37m\u001b[0m \u001b[1m0s\u001b[0m 2ms/step - accuracy: 0.6265 - loss: 1.0969 - val_accuracy: 0.6612 - val_loss: 1.0075\n",
      "Epoch 5/25\n",
      "\u001b[1m200/200\u001b[0m \u001b[32m━━━━━━━━━━━━━━━━━━━━\u001b[0m\u001b[37m\u001b[0m \u001b[1m0s\u001b[0m 2ms/step - accuracy: 0.6739 - loss: 0.9920 - val_accuracy: 0.6894 - val_loss: 0.9214\n",
      "Epoch 6/25\n",
      "\u001b[1m200/200\u001b[0m \u001b[32m━━━━━━━━━━━━━━━━━━━━\u001b[0m\u001b[37m\u001b[0m \u001b[1m0s\u001b[0m 2ms/step - accuracy: 0.6982 - loss: 0.9061 - val_accuracy: 0.7156 - val_loss: 0.8524\n",
      "Epoch 7/25\n",
      "\u001b[1m200/200\u001b[0m \u001b[32m━━━━━━━━━━━━━━━━━━━━\u001b[0m\u001b[37m\u001b[0m \u001b[1m0s\u001b[0m 2ms/step - accuracy: 0.7321 - loss: 0.8359 - val_accuracy: 0.7269 - val_loss: 0.7968\n",
      "Epoch 8/25\n",
      "\u001b[1m200/200\u001b[0m \u001b[32m━━━━━━━━━━━━━━━━━━━━\u001b[0m\u001b[37m\u001b[0m \u001b[1m0s\u001b[0m 2ms/step - accuracy: 0.7530 - loss: 0.7752 - val_accuracy: 0.7519 - val_loss: 0.7515\n",
      "Epoch 9/25\n",
      "\u001b[1m200/200\u001b[0m \u001b[32m━━━━━━━━━━━━━━━━━━━━\u001b[0m\u001b[37m\u001b[0m \u001b[1m1s\u001b[0m 3ms/step - accuracy: 0.7689 - loss: 0.7266 - val_accuracy: 0.7606 - val_loss: 0.7147\n",
      "Epoch 10/25\n",
      "\u001b[1m200/200\u001b[0m \u001b[32m━━━━━━━━━━━━━━━━━━━━\u001b[0m\u001b[37m\u001b[0m \u001b[1m0s\u001b[0m 2ms/step - accuracy: 0.7885 - loss: 0.6861 - val_accuracy: 0.7694 - val_loss: 0.6858\n",
      "Epoch 11/25\n",
      "\u001b[1m200/200\u001b[0m \u001b[32m━━━━━━━━━━━━━━━━━━━━\u001b[0m\u001b[37m\u001b[0m \u001b[1m1s\u001b[0m 4ms/step - accuracy: 0.7937 - loss: 0.6460 - val_accuracy: 0.7725 - val_loss: 0.6599\n",
      "Epoch 12/25\n",
      "\u001b[1m200/200\u001b[0m \u001b[32m━━━━━━━━━━━━━━━━━━━━\u001b[0m\u001b[37m\u001b[0m \u001b[1m1s\u001b[0m 3ms/step - accuracy: 0.8037 - loss: 0.6120 - val_accuracy: 0.7756 - val_loss: 0.6389\n",
      "Epoch 13/25\n",
      "\u001b[1m200/200\u001b[0m \u001b[32m━━━━━━━━━━━━━━━━━━━━\u001b[0m\u001b[37m\u001b[0m \u001b[1m0s\u001b[0m 2ms/step - accuracy: 0.8248 - loss: 0.5772 - val_accuracy: 0.7788 - val_loss: 0.6189\n",
      "Epoch 14/25\n",
      "\u001b[1m200/200\u001b[0m \u001b[32m━━━━━━━━━━━━━━━━━━━━\u001b[0m\u001b[37m\u001b[0m \u001b[1m1s\u001b[0m 3ms/step - accuracy: 0.8265 - loss: 0.5516 - val_accuracy: 0.7862 - val_loss: 0.6035\n",
      "Epoch 15/25\n",
      "\u001b[1m200/200\u001b[0m \u001b[32m━━━━━━━━━━━━━━━━━━━━\u001b[0m\u001b[37m\u001b[0m \u001b[1m0s\u001b[0m 2ms/step - accuracy: 0.8408 - loss: 0.5285 - val_accuracy: 0.7900 - val_loss: 0.5904\n",
      "Epoch 16/25\n",
      "\u001b[1m200/200\u001b[0m \u001b[32m━━━━━━━━━━━━━━━━━━━━\u001b[0m\u001b[37m\u001b[0m \u001b[1m0s\u001b[0m 2ms/step - accuracy: 0.8462 - loss: 0.5004 - val_accuracy: 0.7962 - val_loss: 0.5759\n",
      "Epoch 17/25\n",
      "\u001b[1m200/200\u001b[0m \u001b[32m━━━━━━━━━━━━━━━━━━━━\u001b[0m\u001b[37m\u001b[0m \u001b[1m1s\u001b[0m 3ms/step - accuracy: 0.8553 - loss: 0.4846 - val_accuracy: 0.7975 - val_loss: 0.5661\n",
      "Epoch 18/25\n",
      "\u001b[1m200/200\u001b[0m \u001b[32m━━━━━━━━━━━━━━━━━━━━\u001b[0m\u001b[37m\u001b[0m \u001b[1m1s\u001b[0m 3ms/step - accuracy: 0.8599 - loss: 0.4636 - val_accuracy: 0.8019 - val_loss: 0.5551\n",
      "Epoch 19/25\n",
      "\u001b[1m200/200\u001b[0m \u001b[32m━━━━━━━━━━━━━━━━━━━━\u001b[0m\u001b[37m\u001b[0m \u001b[1m1s\u001b[0m 3ms/step - accuracy: 0.8671 - loss: 0.4437 - val_accuracy: 0.8050 - val_loss: 0.5475\n",
      "Epoch 20/25\n",
      "\u001b[1m200/200\u001b[0m \u001b[32m━━━━━━━━━━━━━━━━━━━━\u001b[0m\u001b[37m\u001b[0m \u001b[1m1s\u001b[0m 3ms/step - accuracy: 0.8700 - loss: 0.4238 - val_accuracy: 0.8062 - val_loss: 0.5390\n",
      "Epoch 21/25\n",
      "\u001b[1m200/200\u001b[0m \u001b[32m━━━━━━━━━━━━━━━━━━━━\u001b[0m\u001b[37m\u001b[0m \u001b[1m0s\u001b[0m 2ms/step - accuracy: 0.8823 - loss: 0.4090 - val_accuracy: 0.8106 - val_loss: 0.5323\n",
      "Epoch 22/25\n",
      "\u001b[1m200/200\u001b[0m \u001b[32m━━━━━━━━━━━━━━━━━━━━\u001b[0m\u001b[37m\u001b[0m \u001b[1m0s\u001b[0m 2ms/step - accuracy: 0.8865 - loss: 0.3934 - val_accuracy: 0.8081 - val_loss: 0.5269\n",
      "Epoch 23/25\n",
      "\u001b[1m200/200\u001b[0m \u001b[32m━━━━━━━━━━━━━━━━━━━━\u001b[0m\u001b[37m\u001b[0m \u001b[1m0s\u001b[0m 2ms/step - accuracy: 0.8937 - loss: 0.3788 - val_accuracy: 0.8106 - val_loss: 0.5244\n",
      "Epoch 24/25\n",
      "\u001b[1m200/200\u001b[0m \u001b[32m━━━━━━━━━━━━━━━━━━━━\u001b[0m\u001b[37m\u001b[0m \u001b[1m0s\u001b[0m 2ms/step - accuracy: 0.8941 - loss: 0.3643 - val_accuracy: 0.8119 - val_loss: 0.5204\n",
      "Epoch 25/25\n",
      "\u001b[1m200/200\u001b[0m \u001b[32m━━━━━━━━━━━━━━━━━━━━\u001b[0m\u001b[37m\u001b[0m \u001b[1m0s\u001b[0m 2ms/step - accuracy: 0.8972 - loss: 0.3514 - val_accuracy: 0.8106 - val_loss: 0.5151\n"
     ]
    }
   ],
   "source": [
    "epochs = 25\n",
    "history = model.fit(\n",
    "    train_ds,\n",
    "    validation_data=val_ds,\n",
    "    epochs=epochs)"
   ]
  },
  {
   "cell_type": "code",
   "execution_count": 192,
   "metadata": {},
   "outputs": [
    {
     "name": "stdout",
     "output_type": "stream",
     "text": [
      "\u001b[1m50/50\u001b[0m \u001b[32m━━━━━━━━━━━━━━━━━━━━\u001b[0m\u001b[37m\u001b[0m \u001b[1m0s\u001b[0m 2ms/step - accuracy: 0.8035 - loss: 0.5438\n",
      "Loss (Validation Dataset):  0.5151147842407227\n",
      "Accuracy (Validation Dataset):  0.8106250166893005\n"
     ]
    }
   ],
   "source": [
    "loss, accuracy = model.evaluate(val_ds)\n",
    "\n",
    "# loss, accuracy = model.evaluate(test_ds)\n",
    "\n",
    "\n",
    "print(\"Loss (Validation Dataset): \", loss)\n",
    "print(\"Accuracy (Validation Dataset): \", accuracy)"
   ]
  },
  {
   "cell_type": "code",
   "execution_count": null,
   "metadata": {},
   "outputs": [
    {
     "name": "stdout",
     "output_type": "stream",
     "text": [
      "\u001b[1m250/250\u001b[0m \u001b[32m━━━━━━━━━━━━━━━━━━━━\u001b[0m\u001b[37m\u001b[0m \u001b[1m0s\u001b[0m 1ms/step - accuracy: 0.7802 - loss: 0.5558\n",
      "Loss (Test Dataset):  0.5151147842407227\n",
      "Accuracy (Test Dataset):  0.777999997138977\n"
     ]
    }
   ],
   "source": [
    "loss, accuracy = model.evaluate(test_ds)\n",
    "\n",
    "\n",
    "print(\"Loss (Test Dataset): \", loss)\n",
    "print(\"Accuracy (Test Dataset): \", accuracy)"
   ]
  },
  {
   "cell_type": "code",
   "execution_count": 200,
   "metadata": {},
   "outputs": [
    {
     "ename": "ValueError",
     "evalue": "Exception encountered when calling Sequential.call().\n\n\u001b[1mInvalid input shape for input Tensor(\"sequential_14_1/Cast:0\", shape=(1,), dtype=float32). Expected shape (None, None), but input has incompatible shape (1,)\u001b[0m\n\nArguments received by Sequential.call():\n  • inputs=tf.Tensor(shape=(1,), dtype=string)\n  • training=False\n  • mask=None",
     "output_type": "error",
     "traceback": [
      "\u001b[1;31m---------------------------------------------------------------------------\u001b[0m",
      "\u001b[1;31mValueError\u001b[0m                                Traceback (most recent call last)",
      "Cell \u001b[1;32mIn[200], line 34\u001b[0m\n\u001b[0;32m      1\u001b[0m example \u001b[38;5;241m=\u001b[39m \u001b[38;5;124m\"\"\"\u001b[39m\u001b[38;5;124mfrom pyspark.sql.functions import concat, to_date, expr, when\u001b[39m\n\u001b[0;32m      2\u001b[0m \n\u001b[0;32m      3\u001b[0m \u001b[38;5;124mfrom pyspark.sql.types import DoubleType\u001b[39m\n\u001b[1;32m   (...)\u001b[0m\n\u001b[0;32m     28\u001b[0m \n\u001b[0;32m     29\u001b[0m \u001b[38;5;124m#display(dff)\u001b[39m\u001b[38;5;124m\"\"\"\u001b[39m\n\u001b[0;32m     30\u001b[0m examples \u001b[38;5;241m=\u001b[39m tf\u001b[38;5;241m.\u001b[39mconstant([\n\u001b[0;32m     31\u001b[0m     example\n\u001b[0;32m     32\u001b[0m ]\n\u001b[0;32m     33\u001b[0m )\n\u001b[1;32m---> 34\u001b[0m \u001b[43mmodel\u001b[49m\u001b[38;5;241;43m.\u001b[39;49m\u001b[43mpredict\u001b[49m\u001b[43m(\u001b[49m\u001b[43mexamples\u001b[49m\u001b[43m)\u001b[49m\n",
      "File \u001b[1;32mc:\\Users\\Qiblatain\\Documents\\Coding\\Python Projects\\Algorithms\\mlenv\\Lib\\site-packages\\keras\\src\\utils\\traceback_utils.py:122\u001b[0m, in \u001b[0;36mfilter_traceback.<locals>.error_handler\u001b[1;34m(*args, **kwargs)\u001b[0m\n\u001b[0;32m    119\u001b[0m     filtered_tb \u001b[38;5;241m=\u001b[39m _process_traceback_frames(e\u001b[38;5;241m.\u001b[39m__traceback__)\n\u001b[0;32m    120\u001b[0m     \u001b[38;5;66;03m# To get the full stack trace, call:\u001b[39;00m\n\u001b[0;32m    121\u001b[0m     \u001b[38;5;66;03m# `keras.config.disable_traceback_filtering()`\u001b[39;00m\n\u001b[1;32m--> 122\u001b[0m     \u001b[38;5;28;01mraise\u001b[39;00m e\u001b[38;5;241m.\u001b[39mwith_traceback(filtered_tb) \u001b[38;5;28;01mfrom\u001b[39;00m \u001b[38;5;28;01mNone\u001b[39;00m\n\u001b[0;32m    123\u001b[0m \u001b[38;5;28;01mfinally\u001b[39;00m:\n\u001b[0;32m    124\u001b[0m     \u001b[38;5;28;01mdel\u001b[39;00m filtered_tb\n",
      "File \u001b[1;32mc:\\Users\\Qiblatain\\Documents\\Coding\\Python Projects\\Algorithms\\mlenv\\Lib\\site-packages\\keras\\src\\models\\functional.py:264\u001b[0m, in \u001b[0;36mFunctional._adjust_input_rank\u001b[1;34m(self, flat_inputs)\u001b[0m\n\u001b[0;32m    262\u001b[0m             adjusted\u001b[38;5;241m.\u001b[39mappend(ops\u001b[38;5;241m.\u001b[39mexpand_dims(x, axis\u001b[38;5;241m=\u001b[39m\u001b[38;5;241m-\u001b[39m\u001b[38;5;241m1\u001b[39m))\n\u001b[0;32m    263\u001b[0m             \u001b[38;5;28;01mcontinue\u001b[39;00m\n\u001b[1;32m--> 264\u001b[0m     \u001b[38;5;28;01mraise\u001b[39;00m \u001b[38;5;167;01mValueError\u001b[39;00m(\n\u001b[0;32m    265\u001b[0m         \u001b[38;5;124mf\u001b[39m\u001b[38;5;124m\"\u001b[39m\u001b[38;5;124mInvalid input shape for input \u001b[39m\u001b[38;5;132;01m{\u001b[39;00mx\u001b[38;5;132;01m}\u001b[39;00m\u001b[38;5;124m. Expected shape \u001b[39m\u001b[38;5;124m\"\u001b[39m\n\u001b[0;32m    266\u001b[0m         \u001b[38;5;124mf\u001b[39m\u001b[38;5;124m\"\u001b[39m\u001b[38;5;132;01m{\u001b[39;00mref_shape\u001b[38;5;132;01m}\u001b[39;00m\u001b[38;5;124m, but input has incompatible shape \u001b[39m\u001b[38;5;132;01m{\u001b[39;00mx\u001b[38;5;241m.\u001b[39mshape\u001b[38;5;132;01m}\u001b[39;00m\u001b[38;5;124m\"\u001b[39m\n\u001b[0;32m    267\u001b[0m     )\n\u001b[0;32m    268\u001b[0m \u001b[38;5;66;03m# Add back metadata.\u001b[39;00m\n\u001b[0;32m    269\u001b[0m \u001b[38;5;28;01mfor\u001b[39;00m i \u001b[38;5;129;01min\u001b[39;00m \u001b[38;5;28mrange\u001b[39m(\u001b[38;5;28mlen\u001b[39m(flat_inputs)):\n",
      "\u001b[1;31mValueError\u001b[0m: Exception encountered when calling Sequential.call().\n\n\u001b[1mInvalid input shape for input Tensor(\"sequential_14_1/Cast:0\", shape=(1,), dtype=float32). Expected shape (None, None), but input has incompatible shape (1,)\u001b[0m\n\nArguments received by Sequential.call():\n  • inputs=tf.Tensor(shape=(1,), dtype=string)\n  • training=False\n  • mask=None"
     ]
    }
   ],
   "source": [
    "example = \"\"\"from pyspark.sql.functions import concat, to_date, expr, when\n",
    "\n",
    "from pyspark.sql.types import DoubleType\n",
    "\n",
    "\n",
    "df = (\n",
    "spark.read.option(\"header\", \"True\")\n",
    ".option(\"delimiter\", \",\")\n",
    ".option(\"inferSchema\", \"True\")\n",
    ".csv(\"dbfs:/databricks-datasets/airlines/part-00000\")\n",
    ")\n",
    "\n",
    "\n",
    "\n",
    "#dff = df.withColumn(\"DayofMonthFormatted\", \n",
    "when(df.DayofMonth.isin([1,2,3,4,5,6,7,8,9]), \"Yes\").otherwise(\"No\"))\n",
    "\n",
    "dff = df.withColumn(\"DayofMonthFormatted\", \n",
    "when(df.DayofMonth.isin([1,2,3,4,5,6,7,8,9]), \"0\" + \n",
    "str(df.DayofMonth)).otherwise(df.DayofMonth))\n",
    "    \n",
    "display(dff['DayofMonth', 'DayofMonthFormatted'])\n",
    "\n",
    "\n",
    "\n",
    "#dff =  df.withColumn('DayDate', \n",
    "to_date(concat('Year','Month','DayofMonth'),'yyyyMMdd'))\n",
    "\n",
    "#display(dff)\"\"\"\n",
    "examples = tf.constant([\n",
    "    example\n",
    "]\n",
    ")\n",
    "model.predict(examples)"
   ]
  },
  {
   "cell_type": "code",
   "execution_count": 201,
   "metadata": {},
   "outputs": [
    {
     "name": "stderr",
     "output_type": "stream",
     "text": [
      "c:\\Users\\Qiblatain\\Documents\\Coding\\Python Projects\\Algorithms\\mlenv\\Lib\\site-packages\\keras\\src\\backend\\tensorflow\\nn.py:635: UserWarning: \"`sparse_categorical_crossentropy` received `from_logits=True`, but the `output` argument was produced by a Softmax activation and thus does not represent logits. Was this intended?\n",
      "  output, from_logits = _get_logits(\n"
     ]
    },
    {
     "name": "stdout",
     "output_type": "stream",
     "text": [
      "\u001b[1m250/250\u001b[0m \u001b[32m━━━━━━━━━━━━━━━━━━━━\u001b[0m\u001b[37m\u001b[0m \u001b[1m1s\u001b[0m 4ms/step - accuracy: 0.7790 - loss: 1.0077\n",
      "{'accuracy': 0.777999997138977, 'loss': 1.0107349157333374}\n"
     ]
    }
   ],
   "source": [
    "export_model = tf.keras.Sequential([\n",
    "  vectorize_layer,\n",
    "  model,\n",
    "  layers.Activation('softmax')\n",
    "])\n",
    "\n",
    "export_model.compile(\n",
    "    loss=losses.SparseCategoricalCrossentropy(from_logits=True), optimizer=\"adam\", metrics=['accuracy']\n",
    ")\n",
    "\n",
    "# Test it with `raw_test_ds`, which yields raw strings\n",
    "metrics = export_model.evaluate(raw_test_ds, return_dict=True)\n",
    "print(metrics)"
   ]
  },
  {
   "cell_type": "code",
   "execution_count": 209,
   "metadata": {},
   "outputs": [],
   "source": [
    "examples = tf.constant([\n",
    "    \"\"\"from pyspark.sql.functions import concat, to_date, expr, when\n",
    "\n",
    "from pyspark.sql.types import DoubleType\n",
    "\n",
    "\n",
    "df = (\n",
    "spark.read.option(\"header\", \"True\")\n",
    ".option(\"delimiter\", \",\")\n",
    ".option(\"inferSchema\", \"True\")\n",
    ".csv(\"dbfs:/databricks-datasets/airlines/part-00000\")\n",
    ")\n",
    "\n",
    "\n",
    "\n",
    "#dff = df.withColumn(\"DayofMonthFormatted\", \n",
    "when(df.DayofMonth.isin([1,2,3,4,5,6,7,8,9]), \"Yes\").otherwise(\"No\"))\n",
    "\n",
    "dff = df.withColumn(\"DayofMonthFormatted\", \n",
    "when(df.DayofMonth.isin([1,2,3,4,5,6,7,8,9]), \"0\" + \n",
    "str(df.DayofMonth)).otherwise(df.DayofMonth))\n",
    "    \n",
    "display(dff['DayofMonth', 'DayofMonthFormatted'])\n",
    "\n",
    "\n",
    "\n",
    "#dff =  df.withColumn('DayDate', \n",
    "to_date(concat('Year','Month','DayofMonth'),'yyyyMMdd'))\n",
    "\n",
    "#display(dff)\"\"\",\n",
    "\"JavaScript is a dynamic programming language used for creating interactive websites and web applications, enabling client-side functionality.\"\n",
    "\n",
    "])"
   ]
  },
  {
   "cell_type": "code",
   "execution_count": null,
   "metadata": {},
   "outputs": [
    {
     "name": "stdout",
     "output_type": "stream",
     "text": [
      "\u001b[1m1/1\u001b[0m \u001b[32m━━━━━━━━━━━━━━━━━━━━\u001b[0m\u001b[37m\u001b[0m \u001b[1m0s\u001b[0m 25ms/step\n",
      "tf.Tensor(b'Text: from pyspark.sql.functions import concat, to_date, expr, when\\n\\nfrom pyspark.sql.types import DoubleType\\n\\n\\ndf = (\\nspark.read.option(\"header\", \"True\")\\n.option(\"delimiter\", \",\")\\n.option(\"inferSchema\", \"True\")\\n.csv(\"dbfs:/databricks-datasets/airlines/part-00000\")\\n)\\n\\n\\n\\n#dff = df.withColumn(\"DayofMonthFormatted\", \\nwhen(df.DayofMonth.isin([1,2,3,4,5,6,7,8,9]), \"Yes\").otherwise(\"No\"))\\n\\ndff = df.withColumn(\"DayofMonthFormatted\", \\nwhen(df.DayofMonth.isin([1,2,3,4,5,6,7,8,9]), \"0\" + \\nstr(df.DayofMonth)).otherwise(df.DayofMonth))\\n    \\ndisplay(dff[\\'DayofMonth\\', \\'DayofMonthFormatted\\'])\\n\\n\\n\\n#dff =  df.withColumn(\\'DayDate\\', \\nto_date(concat(\\'Year\\',\\'Month\\',\\'DayofMonth\\'),\\'yyyyMMdd\\'))\\n\\n#display(dff)\\nClass: python', shape=(), dtype=string)\n",
      "tf.Tensor(b'Text: JavaScript is a dynamic programming language used for creating interactive websites and web applications, enabling client-side functionality.\\nClass: javascript', shape=(), dtype=string)\n"
     ]
    }
   ],
   "source": [
    "import numpy as np\n",
    "predictions = export_model.predict(examples)\n",
    "predicted_classes = np.argmax(predictions, axis=1)  # Get the class with the highest probability\n",
    "\n",
    "classes = [class_name for class_name in raw_test_ds.class_names]\n",
    "predicted_class_names = [classes[i] for i in predicted_classes]\n",
    "\n",
    "# Print the predicted class names\n",
    "for i in range(len(predicted_class_names)):\n",
    "    print(\"Text: \"+ examples[i] + \"\\nClass: \" + predicted_class_names[i])"
   ]
  },
  {
   "cell_type": "code",
   "execution_count": null,
   "metadata": {},
   "outputs": [],
   "source": []
  },
  {
   "cell_type": "code",
   "execution_count": null,
   "metadata": {},
   "outputs": [],
   "source": []
  }
 ],
 "metadata": {
  "kernelspec": {
   "display_name": "mlenv",
   "language": "python",
   "name": "python3"
  },
  "language_info": {
   "codemirror_mode": {
    "name": "ipython",
    "version": 3
   },
   "file_extension": ".py",
   "mimetype": "text/x-python",
   "name": "python",
   "nbconvert_exporter": "python",
   "pygments_lexer": "ipython3",
   "version": "3.11.9"
  }
 },
 "nbformat": 4,
 "nbformat_minor": 2
}
